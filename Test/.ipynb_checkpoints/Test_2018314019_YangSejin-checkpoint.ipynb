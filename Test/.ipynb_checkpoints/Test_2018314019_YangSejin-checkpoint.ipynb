{
 "cells": [
  {
   "cell_type": "code",
   "execution_count": 3,
   "id": "4caad3a0",
   "metadata": {},
   "outputs": [
    {
     "name": "stderr",
     "output_type": "stream",
     "text": [
      "\r",
      "[Stage 0:>                                                          (0 + 1) / 1]\r"
     ]
    },
    {
     "name": "stdout",
     "output_type": "stream",
     "text": [
      "+--------------------+-----+\n",
      "|            features|label|\n",
      "+--------------------+-----+\n",
      "|[0.06169620651868...|151.0|\n",
      "|[-0.0514740612388...| 75.0|\n",
      "|[0.04445121333659...|141.0|\n",
      "|[-0.0115950145052...|206.0|\n",
      "|[-0.0363846922044...|135.0|\n",
      "|[-0.0406959404999...| 97.0|\n",
      "|[-0.0471628129432...|138.0|\n",
      "|[-0.0018947058402...| 63.0|\n",
      "|[0.06169620651868...|110.0|\n",
      "|[0.03906215296718...|310.0|\n",
      "|[-0.0838084234552...|101.0|\n",
      "|[0.01750591148957...| 69.0|\n",
      "|[-0.0288400076873...|179.0|\n",
      "|[-0.0018947058402...|185.0|\n",
      "|[-0.0256065714656...|118.0|\n",
      "|[-0.0180618869484...|171.0|\n",
      "|[0.04229558918883...|166.0|\n",
      "|[0.01211685112016...|144.0|\n",
      "|[-0.0105172024313...| 97.0|\n",
      "|[-0.0180618869484...|168.0|\n",
      "+--------------------+-----+\n",
      "only showing top 20 rows\n",
      "\n"
     ]
    },
    {
     "name": "stderr",
     "output_type": "stream",
     "text": [
      "\r",
      "                                                                                \r"
     ]
    }
   ],
   "source": [
    "# 1-1\n",
    "\n",
    "from pyspark.sql import SparkSession\n",
    "from pyspark.ml.feature import VectorAssembler\n",
    "from pyspark.ml.regression import LinearRegression\n",
    "import sklearn.datasets\n",
    "import pandas as pd\n",
    "\n",
    "# SparkSession 초기화\n",
    "spark = SparkSession.builder.getOrCreate()\n",
    "\n",
    "# scikit-learn에서 제공하는 데이터를 로드\n",
    "diabetes = sklearn.datasets.load_diabetes()\n",
    "\n",
    "# 독립변수와 target 데이터 추출\n",
    "features = diabetes.data[:, [2, 8]]  # bp와 s5를 선택하여 features로 사용\n",
    "target = diabetes.target\n",
    "\n",
    "# 초기 350개의 데이터를 학습 데이터로 사용\n",
    "train_data = features[:350]\n",
    "train_target = target[:350]\n",
    "\n",
    "# 나머지 데이터를 테스트 데이터로 사용\n",
    "test_data = features[350:]\n",
    "test_target = target[350:]\n",
    "\n",
    "# Pandas DataFrame으로 변환\n",
    "train_df = pd.DataFrame(train_data, columns=['bp', 's5'])\n",
    "train_df['label'] = train_target\n",
    "\n",
    "# Spark DataFrame으로 변환\n",
    "spark_train_df = spark.createDataFrame(train_df)\n",
    "\n",
    "# VectorAssembler를 사용하여 features 컬럼 생성\n",
    "assembler = VectorAssembler(inputCols=['bp', 's5'], outputCol='features')\n",
    "spark_train_df = assembler.transform(spark_train_df)\n",
    "\n",
    "# 필요한 컬럼만 선택하여 새로운 DataFrame 생성\n",
    "spark_train_df = spark_train_df.select('features', 'label')\n",
    "\n",
    "# 결과 출력\n",
    "spark_train_df.show()\n",
    "\n",
    "# 먼저, SparkSession을 초기화\n",
    "# 독립변수와 타겟 데이터를 추출합 -> 독립변수는 모델을 학습하는 데 사용되는 데이터이고, 타겟 데이터는 모델이 예측해야 하는 데이터입니다. \n",
    "# 초기 350개의 데이터를 학습 데이터로 사용하고, 나머지 데이터를 테스트 데이터로 사용 ,학습 데이터는 모델을 학습하는 데 사용되고, 테스트 데이터는 모델의 성능을 평가하는 데 사용\n",
    "# Pandas DataFrame으로 변환 # Spark DataFrame으로 변환\n",
    "# VectorAssembler를 사용하여 features 컬럼을 생성 ->  VectorAssembler는 여러 개의 컬럼을 하나의 벡터로 결합하는 데 사용되는 Transformer입니다. 이 코드에서는 bp 컬럼과 s5 컬럼을 하나의 벡터로 결합합니다.\n",
    "# 필요한 컬럼만 선택하여 새로운 DataFrame을 생성 -> 이 코드에서는 features 컬럼과 label 컬럼을 선택하여 새로운 DataFrame을 생성합니다.\n",
    "# 결과를 출력합니다. 이 코드는 features 컬럼과 label 컬럼을 포함하는 새로운 DataFrame을 출력합니다.\n"
   ]
  },
  {
   "cell_type": "code",
   "execution_count": 4,
   "id": "488c6c58",
   "metadata": {},
   "outputs": [
    {
     "name": "stdout",
     "output_type": "stream",
     "text": [
      "23/05/30 13:49:43 WARN Instrumentation: [a667db33] regParam is zero, which might cause numerical instability and overfitting.\n",
      "23/05/30 13:49:44 WARN InstanceBuilder$JavaBLAS: Failed to load implementation from:dev.ludovic.netlib.blas.VectorBLAS\n",
      "23/05/30 13:49:44 WARN InstanceBuilder$NativeBLAS: Failed to load implementation from:dev.ludovic.netlib.blas.JNIBLAS\n",
      "23/05/30 13:49:44 WARN InstanceBuilder$NativeBLAS: Failed to load implementation from:dev.ludovic.netlib.blas.ForeignLinkerBLAS\n",
      "23/05/30 13:49:44 WARN InstanceBuilder$NativeLAPACK: Failed to load implementation from:dev.ludovic.netlib.lapack.JNILAPACK\n",
      "y = 651.3655440903974 * bp + 636.7807172268164 * s5 + 152.30578264055333\n"
     ]
    }
   ],
   "source": [
    "#1-2\n",
    "from pyspark.ml.regression import LinearRegression\n",
    "\n",
    "# LinearRegression 모델 초기화\n",
    "lr = LinearRegression()\n",
    "\n",
    "# 모델 학습\n",
    "lr_model = lr.fit(spark_train_df)\n",
    "\n",
    "# 학습된 계수와 절편 출력\n",
    "coefficients = lr_model.coefficients\n",
    "intercept = lr_model.intercept\n",
    "\n",
    "print(\"y = {} * bp + {} * s5 + {}\".format(coefficients[0], coefficients[1], intercept))\n",
    "\n",
    "\n",
    "# 먼저, LinearRegression 클래스를 사용하여 선형 회귀 모델을 초기화 -> 절편 : 선형 회귀 모델에서 절편은 그래프가 y축과 만나는 점을 말합니다. 절편은 독립변수가 모두 0일 때 종속변수의 값을 나타냅니다.\n",
    "# 다음으로, fit() 메서드를 사용하여 모델을 학습 fit() 메서드는 학습 데이터를 입력으로 받아서 모델을 학습\n",
    "# 다음으로, coefficients 속성과 intercept coefficients 속성은 독립변수에 대한 계수를 나타내고, intercept 속성은 절편을 나타냅니다.\n",
    "# 마지막으로, print() 함수를 사용하여 학습된 계수와 절편을 출력\n"
   ]
  },
  {
   "cell_type": "code",
   "execution_count": 5,
   "id": "2cd9d597",
   "metadata": {},
   "outputs": [
    {
     "name": "stdout",
     "output_type": "stream",
     "text": [
      "RMSE: 57.299426229236964\n",
      "R2 Score: 0.4900479632822107\n"
     ]
    }
   ],
   "source": [
    "#1-3\n",
    "from pyspark.ml.evaluation import RegressionEvaluator\n",
    "\n",
    "# 테스트 데이터를 Spark DataFrame으로 변환\n",
    "test_df = pd.DataFrame(test_data, columns=['bp', 's5'])\n",
    "test_df['label'] = test_target\n",
    "spark_test_df = spark.createDataFrame(test_df)\n",
    "\n",
    "# VectorAssembler를 사용하여 features 컬럼 생성\n",
    "spark_test_df = assembler.transform(spark_test_df)\n",
    "spark_test_df = spark_test_df.select('features', 'label')\n",
    "\n",
    "# 예측값 계산\n",
    "predictions = lr_model.transform(spark_test_df)\n",
    "\n",
    "# 평가 지표 계산\n",
    "evaluator = RegressionEvaluator(labelCol=\"label\", predictionCol=\"prediction\", metricName=\"rmse\")\n",
    "rmse = evaluator.evaluate(predictions)\n",
    "\n",
    "evaluator = RegressionEvaluator(labelCol=\"label\", predictionCol=\"prediction\", metricName=\"r2\")\n",
    "r2 = evaluator.evaluate(predictions)\n",
    "\n",
    "print(\"RMSE:\", rmse)\n",
    "print(\"R2 Score:\", r2)\n",
    "\n",
    "\n",
    "#일단 테스트 케이스를 스파크 데이터 프레임으로 바꿈.. 이후에 VectorAssembler를 사용하여 features 컬럼 생성을 생성해서 \n",
    "#test용 df를 생성한다음 이거를 lr_model 이거에서 제공하는 트랜스퍼 모델에다가 넣어서 예측값을 계산하고\n",
    "#이 결과 값을 이용하여 평가지표를 계산한다.\n",
    "#RMSE :  Root Mean Square Error(평균 제곱근 오차)의 약자입니다. \n",
    "#회귀 모델의 예측 값과 실제 값 사이의 오차를 평가하는 지표 중 하나입니다. RMSE는 예측 값과 실제 값 사이의 차이를 제곱한 후,\n",
    "#평균을 구하고 그 결과에 제곱근을 취한 값입니다. RMSE가 작을수록 모델의 예측이 실제 값에 더 가깝다고 할 수 있습니다."
   ]
  },
  {
   "cell_type": "code",
   "execution_count": 7,
   "id": "923d1df4",
   "metadata": {
    "scrolled": false
   },
   "outputs": [
    {
     "name": "stdout",
     "output_type": "stream",
     "text": [
      "Collecting pykrx\n",
      "  Downloading pykrx-1.0.42-py3-none-any.whl (127 kB)\n",
      "\u001b[2K     \u001b[90m━━━━━━━━━━━━━━━━━━━━━━━━━━━━━━━━━━━━━━━\u001b[0m \u001b[32m127.5/127.5 kB\u001b[0m \u001b[31m3.7 MB/s\u001b[0m eta \u001b[36m0:00:00\u001b[0m\n",
      "\u001b[?25hRequirement already satisfied: requests in /Users/yangsejin/opt/anaconda3/lib/python3.9/site-packages (from pykrx) (2.28.1)\n",
      "Requirement already satisfied: xlrd in /Users/yangsejin/opt/anaconda3/lib/python3.9/site-packages (from pykrx) (2.0.1)\n",
      "Requirement already satisfied: pandas in /Users/yangsejin/opt/anaconda3/lib/python3.9/site-packages (from pykrx) (1.4.4)\n",
      "Requirement already satisfied: matplotlib in /Users/yangsejin/opt/anaconda3/lib/python3.9/site-packages (from pykrx) (3.5.2)\n",
      "Requirement already satisfied: numpy in /Users/yangsejin/opt/anaconda3/lib/python3.9/site-packages (from pykrx) (1.21.5)\n",
      "Requirement already satisfied: multipledispatch in /Users/yangsejin/opt/anaconda3/lib/python3.9/site-packages (from pykrx) (0.6.0)\n",
      "Collecting deprecated\n",
      "  Downloading Deprecated-1.2.14-py2.py3-none-any.whl (9.6 kB)\n",
      "Collecting datetime\n",
      "  Downloading DateTime-5.1-py3-none-any.whl (52 kB)\n",
      "\u001b[2K     \u001b[90m━━━━━━━━━━━━━━━━━━━━━━━━━━━━━━━━━━━━━━━━\u001b[0m \u001b[32m52.1/52.1 kB\u001b[0m \u001b[31m1.6 MB/s\u001b[0m eta \u001b[36m0:00:00\u001b[0m\n",
      "\u001b[?25hRequirement already satisfied: pytz in /Users/yangsejin/opt/anaconda3/lib/python3.9/site-packages (from datetime->pykrx) (2022.1)\n",
      "Requirement already satisfied: zope.interface in /Users/yangsejin/opt/anaconda3/lib/python3.9/site-packages (from datetime->pykrx) (5.4.0)\n",
      "Requirement already satisfied: wrapt<2,>=1.10 in /Users/yangsejin/opt/anaconda3/lib/python3.9/site-packages (from deprecated->pykrx) (1.14.1)\n",
      "Requirement already satisfied: cycler>=0.10 in /Users/yangsejin/opt/anaconda3/lib/python3.9/site-packages (from matplotlib->pykrx) (0.11.0)\n",
      "Requirement already satisfied: pyparsing>=2.2.1 in /Users/yangsejin/opt/anaconda3/lib/python3.9/site-packages (from matplotlib->pykrx) (3.0.9)\n",
      "Requirement already satisfied: kiwisolver>=1.0.1 in /Users/yangsejin/opt/anaconda3/lib/python3.9/site-packages (from matplotlib->pykrx) (1.4.2)\n",
      "Requirement already satisfied: packaging>=20.0 in /Users/yangsejin/opt/anaconda3/lib/python3.9/site-packages (from matplotlib->pykrx) (21.3)\n",
      "Requirement already satisfied: python-dateutil>=2.7 in /Users/yangsejin/opt/anaconda3/lib/python3.9/site-packages (from matplotlib->pykrx) (2.8.2)\n",
      "Requirement already satisfied: pillow>=6.2.0 in /Users/yangsejin/opt/anaconda3/lib/python3.9/site-packages (from matplotlib->pykrx) (9.2.0)\n",
      "Requirement already satisfied: fonttools>=4.22.0 in /Users/yangsejin/opt/anaconda3/lib/python3.9/site-packages (from matplotlib->pykrx) (4.25.0)\n",
      "Requirement already satisfied: six in /Users/yangsejin/opt/anaconda3/lib/python3.9/site-packages (from multipledispatch->pykrx) (1.16.0)\n",
      "Requirement already satisfied: urllib3<1.27,>=1.21.1 in /Users/yangsejin/opt/anaconda3/lib/python3.9/site-packages (from requests->pykrx) (1.26.11)\n",
      "Requirement already satisfied: certifi>=2017.4.17 in /Users/yangsejin/opt/anaconda3/lib/python3.9/site-packages (from requests->pykrx) (2022.9.24)\n",
      "Requirement already satisfied: charset-normalizer<3,>=2 in /Users/yangsejin/opt/anaconda3/lib/python3.9/site-packages (from requests->pykrx) (2.0.4)\n",
      "Requirement already satisfied: idna<4,>=2.5 in /Users/yangsejin/opt/anaconda3/lib/python3.9/site-packages (from requests->pykrx) (3.3)\n",
      "Requirement already satisfied: setuptools in /Users/yangsejin/opt/anaconda3/lib/python3.9/site-packages (from zope.interface->datetime->pykrx) (63.4.1)\n",
      "Installing collected packages: deprecated, datetime, pykrx\n",
      "Successfully installed datetime-5.1 deprecated-1.2.14 pykrx-1.0.42\n",
      "Note: you may need to restart the kernel to use updated packages.\n"
     ]
    }
   ],
   "source": [
    "!pip install pykrx\n",
    "\n",
    "#설치해야함"
   ]
  },
  {
   "cell_type": "code",
   "execution_count": 29,
   "id": "61b466a3",
   "metadata": {},
   "outputs": [
    {
     "name": "stdout",
     "output_type": "stream",
     "text": [
      "          BPS    PER   PBR  EPS   DIV  DPS\n",
      "티커                                        \n",
      "095570   8076  22.04  0.55  201  6.09  270\n",
      "006840  41948   0.00  0.48    0  1.00  200\n"
     ]
    }
   ],
   "source": [
    "#2\n",
    "df = stock.get_market_fundamental(\"20230523\")\n",
    "print(df.head(2))\n",
    "\n",
    "# Df 미리 set - 문서 읽어보니 기본으로 KOSPI 로 준다고 하여 따로 설정안했습니다."
   ]
  },
  {
   "cell_type": "code",
   "execution_count": 41,
   "id": "8e6ec305",
   "metadata": {},
   "outputs": [
    {
     "name": "stderr",
     "output_type": "stream",
     "text": [
      "                                                                                \r"
     ]
    },
    {
     "name": "stdout",
     "output_type": "stream",
     "text": [
      "23/05/30 15:00:52 WARN InstanceBuilder$JavaBLAS: Failed to load implementation from:dev.ludovic.netlib.blas.VectorBLAS\n",
      "+----------+-----+\n",
      "|prediction|count|\n",
      "+----------+-----+\n",
      "|         1|  618|\n",
      "|         0|  298|\n",
      "|         2|    2|\n",
      "+----------+-----+\n",
      "\n"
     ]
    }
   ],
   "source": [
    "#2-1\n",
    "from pykrx import stock\n",
    "\n",
    "# KOSPI 종목에 대한 2023년 5월 23일자의 DIV, BPS, PER, EPS, PBR 값을 가져옵니다.\n",
    "df = stock.get_market_fundamental_by_ticker(\"20230523\")\n",
    "df = df[['DIV', 'BPS', 'PER', 'EPS', 'PBR']]  # 필요한 열만 선택합니다.\n",
    "\n",
    "from sklearn.preprocessing import StandardScaler\n",
    "\n",
    "# StandardScaler를 사용하여 데이터를 정규화합니다.\n",
    "scaler = StandardScaler()\n",
    "df_scaled = scaler.fit_transform(df)\n",
    "\n",
    "from pyspark.ml.clustering import KMeans\n",
    "from pyspark.ml.feature import VectorAssembler\n",
    "from pyspark.sql import SparkSession\n",
    "\n",
    "# SparkSession을 초기화합니다.\n",
    "spark = SparkSession.builder.getOrCreate()\n",
    "\n",
    "# 데이터프레임을 생성합니다.\n",
    "df_spark = spark.createDataFrame(df_scaled.tolist(), df.columns.tolist())\n",
    "\n",
    "# VectorAssembler를 사용하여 입력 특징 벡터를 생성합니다.\n",
    "assembler = VectorAssembler(inputCols=df.columns.tolist(), outputCol=\"features\")\n",
    "df_assembled = assembler.transform(df_spark)\n",
    "\n",
    "# K-Means 모델을 생성하고 학습합니다.\n",
    "kmeans = KMeans(k=3, seed=1)\n",
    "model = kmeans.fit(df_assembled)\n",
    "\n",
    "# 클러스터링 결과를 예측합니다.\n",
    "predictions = model.transform(df_assembled)\n",
    "\n",
    "# 각 클러스터에 속하는 종목의 수를 계산합니다.\n",
    "cluster_counts = predictions.groupBy(\"prediction\").count()\n",
    "cluster_counts.show()\n",
    "\n",
    "\n"
   ]
  },
  {
   "cell_type": "code",
   "execution_count": 43,
   "id": "f1f91643",
   "metadata": {},
   "outputs": [
    {
     "name": "stdout",
     "output_type": "stream",
     "text": [
      "Scaling된 값의 중앙점:\n",
      "Cluster 1: [ 1.1020987   0.11258108 -0.08446625  0.14903381 -0.19949561]\n",
      "Cluster 2: [-0.52998281 -0.1115965   0.04113997 -0.13069369  0.09712281]\n",
      "Cluster 3: [-0.44801673 17.70873687 -0.12678112 18.17831209 -0.28610151]\n",
      "\n",
      "Scaling 이전 원래 값의 중앙점:\n",
      "Cluster 1: [4.83120805e+00 7.31497315e+04 9.07661074e+00 6.34892617e+03\n",
      " 4.94932886e-01]\n",
      "Cluster 2: [8.39530744e-01 2.83525307e+04 2.97264078e+01 1.64127023e+03\n",
      " 1.53930421e+00]\n",
      "Cluster 3: [1.0400000e+00 3.5893735e+06 2.1200000e+00 3.0977150e+05 1.9000000e-01]\n"
     ]
    }
   ],
   "source": [
    "#2-2\n",
    "# 각 클러스터의 scaling된 값의 중앙점 출력\n",
    "cluster_centers_scaled = model.clusterCenters()\n",
    "print(\"Scaling된 값의 중앙점:\")\n",
    "for i, center in enumerate(cluster_centers_scaled):\n",
    "    print(f\"Cluster {i+1}: {center}\")\n",
    "\n",
    "# scaling 이전 원래 값의 중앙점 출력\n",
    "scaler_inverse = scaler.inverse_transform(cluster_centers_scaled)\n",
    "print(\"\\nScaling 이전 원래 값의 중앙점:\")\n",
    "for i, center in enumerate(scaler_inverse):\n",
    "    print(f\"Cluster {i+1}: {center}\")\n"
   ]
  },
  {
   "cell_type": "code",
   "execution_count": 44,
   "id": "d48a94c6",
   "metadata": {},
   "outputs": [
    {
     "data": {
      "image/png": "[encoded data removed]",
      "text/plain": [
       "<Figure size 640x480 with 1 Axes>"
      ]
     },
     "metadata": {},
     "output_type": "display_data"
    },
    {
     "name": "stdout",
     "output_type": "stream",
     "text": [
      "최적의 K 값: 12\n",
      "실루엣 값: 0.5751289972112273\n"
     ]
    }
   ],
   "source": [
    "#2-3\n",
    "from pyspark.ml.evaluation import ClusteringEvaluator\n",
    "import matplotlib.pyplot as plt\n",
    "\n",
    "k_values = range(2, 21)  # K 값의 범위 설정\n",
    "silhouette_scores = []\n",
    "\n",
    "for k in k_values:\n",
    "    kmeans = KMeans(k=k, seed=1)\n",
    "    model = kmeans.fit(df_assembled)\n",
    "    predictions = model.transform(df_assembled)\n",
    "    \n",
    "    evaluator = ClusteringEvaluator()\n",
    "    silhouette_score = evaluator.evaluate(predictions)\n",
    "    silhouette_scores.append(silhouette_score)\n",
    "\n",
    "# 그래프 출력\n",
    "plt.plot(k_values, silhouette_scores, 'bo-')\n",
    "plt.xlabel('K')\n",
    "plt.ylabel('Silhouette Score')\n",
    "plt.title('Silhouette Score for Different K Values')\n",
    "plt.show()\n",
    "\n",
    "# 최적의 K 값과 실루엣 값 출력\n",
    "best_k = k_values[silhouette_scores.index(max(silhouette_scores))]\n",
    "best_silhouette = max(silhouette_scores)\n",
    "\n",
    "print(\"최적의 K 값:\", best_k)\n",
    "print(\"실루엣 값:\", best_silhouette)\n"
   ]
  },
  {
   "cell_type": "code",
   "execution_count": null,
   "id": "cf31ed8d",
   "metadata": {},
   "outputs": [],
   "source": []
  }
 ],
 "metadata": {
  "kernelspec": {
   "display_name": "Python 3 (ipykernel)",
   "language": "python",
   "name": "python3"
  },
  "language_info": {
   "codemirror_mode": {
    "name": "ipython",
    "version": 3
   },
   "file_extension": ".py",
   "mimetype": "text/x-python",
   "name": "python",
   "nbconvert_exporter": "python",
   "pygments_lexer": "ipython3",
   "version": "3.9.13"
  }
 },
 "nbformat": 4,
 "nbformat_minor": 5
}
