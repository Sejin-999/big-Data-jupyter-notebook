{
 "cells": [
  {
   "cell_type": "code",
   "execution_count": 1,
   "id": "c7006c27",
   "metadata": {},
   "outputs": [
    {
     "name": "stdout",
     "output_type": "stream",
     "text": [
      "23/05/30 14:02:07 WARN Utils: Your hostname, yangsejin-ui-MacBookPro.local resolves to a loopback address: 127.0.0.1; using 192.168.0.45 instead (on interface en0)\n",
      "23/05/30 14:02:07 WARN Utils: Set SPARK_LOCAL_IP if you need to bind to another address\n"
     ]
    },
    {
     "name": "stderr",
     "output_type": "stream",
     "text": [
      "Setting default log level to \"WARN\".\n",
      "To adjust logging level use sc.setLogLevel(newLevel). For SparkR, use setLogLevel(newLevel).\n"
     ]
    },
    {
     "name": "stdout",
     "output_type": "stream",
     "text": [
      "23/05/30 14:02:07 WARN NativeCodeLoader: Unable to load native-hadoop library for your platform... using builtin-java classes where applicable\n",
      "23/05/30 14:02:08 WARN Utils: Service 'SparkUI' could not bind on port 4040. Attempting port 4041.\n"
     ]
    },
    {
     "ename": "TypeError",
     "evalue": "get_market_fundamental_by_date() missing 1 required positional argument: 'ticker'",
     "output_type": "error",
     "traceback": [
      "\u001b[0;31m---------------------------------------------------------------------------\u001b[0m",
      "\u001b[0;31mTypeError\u001b[0m                                 Traceback (most recent call last)",
      "\u001b[0;32m/var/folders/cv/66wm5tcs5gs17lcxlkz6mdmh0000gn/T/ipykernel_83536/4288372870.py\u001b[0m in \u001b[0;36m<module>\u001b[0;34m\u001b[0m\n\u001b[1;32m     17\u001b[0m \u001b[0;31m# Iterate over the ticker symbols and retrieve the fundamental data\u001b[0m\u001b[0;34m\u001b[0m\u001b[0;34m\u001b[0m\u001b[0m\n\u001b[1;32m     18\u001b[0m \u001b[0;32mfor\u001b[0m \u001b[0mticker\u001b[0m \u001b[0;32min\u001b[0m \u001b[0mticker_list\u001b[0m\u001b[0;34m:\u001b[0m\u001b[0;34m\u001b[0m\u001b[0;34m\u001b[0m\u001b[0m\n\u001b[0;32m---> 19\u001b[0;31m     \u001b[0mdata\u001b[0m \u001b[0;34m=\u001b[0m \u001b[0mstock\u001b[0m\u001b[0;34m.\u001b[0m\u001b[0mget_market_fundamental_by_date\u001b[0m\u001b[0;34m(\u001b[0m\u001b[0;34m\"20230523\"\u001b[0m\u001b[0;34m,\u001b[0m \u001b[0mticker\u001b[0m\u001b[0;34m)\u001b[0m\u001b[0;34m\u001b[0m\u001b[0;34m\u001b[0m\u001b[0m\n\u001b[0m\u001b[1;32m     20\u001b[0m     \u001b[0mfundamental_data\u001b[0m\u001b[0;34m.\u001b[0m\u001b[0mappend\u001b[0m\u001b[0;34m(\u001b[0m\u001b[0mdata\u001b[0m\u001b[0;34m)\u001b[0m\u001b[0;34m\u001b[0m\u001b[0;34m\u001b[0m\u001b[0m\n\u001b[1;32m     21\u001b[0m \u001b[0;34m\u001b[0m\u001b[0m\n",
      "\u001b[0;31mTypeError\u001b[0m: get_market_fundamental_by_date() missing 1 required positional argument: 'ticker'"
     ]
    },
    {
     "name": "stdout",
     "output_type": "stream",
     "text": [
      "23/05/30 14:02:25 WARN GarbageCollectionMetrics: To enable non-built-in garbage collector(s) List(G1 Concurrent GC), users should configure it(them) to spark.eventLog.gcMetrics.youngGenerationGarbageCollectors or spark.eventLog.gcMetrics.oldGenerationGarbageCollectors\n"
     ]
    }
   ],
   "source": [
    "from pyspark.ml.feature import StandardScaler\n",
    "from pyspark.ml.clustering import KMeans\n",
    "from pyspark.ml import Pipeline\n",
    "from pyspark.sql import SparkSession\n",
    "import pandas as pd\n",
    "\n",
    "# Initialize SparkSession\n",
    "spark = SparkSession.builder.appName(\"KMeans Clustering\").getOrCreate()\n",
    "\n",
    "# Get the list of stock ticker symbols in KOSPI\n",
    "from pykrx import stock\n",
    "ticker_list = stock.get_index_ticker_list(\"KOSPI\")\n",
    "\n",
    "# Create an empty DataFrame to store the fundamental data\n",
    "fundamental_data = []\n",
    "\n",
    "# Iterate over the ticker symbols and retrieve the fundamental data\n",
    "for ticker in ticker_list:\n",
    "    data = stock.get_market_fundamental_by_date(\"20230523\", ticker)\n",
    "    fundamental_data.append(data)\n",
    "\n",
    "# Create a Pandas DataFrame from the collected fundamental data\n",
    "kospi_df = pd.concat(fundamental_data)\n",
    "\n",
    "# Create a Spark DataFrame from the Pandas DataFrame\n",
    "kospi_spark_df = spark.createDataFrame(kospi_df)\n",
    "\n",
    "# Select the required columns for clustering\n",
    "selected_cols = [\"종목코드\", \"DIV\", \"BPS\", \"PER\", \"EPS\", \"PBR\"]\n",
    "selected_data = kospi_spark_df.select(selected_cols)\n",
    "\n",
    "# Perform Standard Scaling\n",
    "scaler = StandardScaler(inputCol=\"features\", outputCol=\"scaledFeatures\")\n",
    "scaled_data = scaler.fit(selected_data).transform(selected_data)\n",
    "\n",
    "# Perform K-means Clustering\n",
    "kmeans = KMeans(featuresCol=\"scaledFeatures\", k=3)\n",
    "model = kmeans.fit(scaled_data)\n",
    "\n",
    "# Add the predicted cluster labels to the DataFrame\n",
    "clustered_data = model.transform(scaled_data)\n",
    "\n",
    "# Count the number of stocks in each cluster\n",
    "cluster_count = clustered_data.groupBy(\"prediction\").count()\n",
    "\n",
    "# Display the number of stocks in each cluster\n",
    "cluster_count.show()\n"
   ]
  },
  {
   "cell_type": "code",
   "execution_count": null,
   "id": "0fde91c7",
   "metadata": {},
   "outputs": [],
   "source": []
  },
  {
   "cell_type": "code",
   "execution_count": null,
   "id": "b25a9775",
   "metadata": {},
   "outputs": [],
   "source": []
  }
 ],
 "metadata": {
  "kernelspec": {
   "display_name": "Python 3 (ipykernel)",
   "language": "python",
   "name": "python3"
  },
  "language_info": {
   "codemirror_mode": {
    "name": "ipython",
    "version": 3
   },
   "file_extension": ".py",
   "mimetype": "text/x-python",
   "name": "python",
   "nbconvert_exporter": "python",
   "pygments_lexer": "ipython3",
   "version": "3.9.13"
  }
 },
 "nbformat": 4,
 "nbformat_minor": 5
}
