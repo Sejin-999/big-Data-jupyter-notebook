{
 "cells": [
  {
   "cell_type": "code",
   "execution_count": 9,
   "id": "51256dc4",
   "metadata": {},
   "outputs": [
    {
     "name": "stdout",
     "output_type": "stream",
     "text": [
      "200304\n",
      "20 03 04    "
     ]
    }
   ],
   "source": [
    "#21 - 분할\n",
    "s = input()\n",
    "a=0\n",
    "b=2\n",
    "for c in s :\n",
    "    print(s[a:b] , end =\" \")\n",
    "    a=b\n",
    "    b+=2\n"
   ]
  },
  {
   "cell_type": "code",
   "execution_count": 10,
   "id": "32fcc876",
   "metadata": {},
   "outputs": [
    {
     "name": "stdout",
     "output_type": "stream",
     "text": [
      "17:23:57\n",
      "23\n"
     ]
    }
   ],
   "source": [
    "#22 - 가운데 값만 뽑기\n",
    "a,b,c = input().split(\":\")\n",
    "print(b)"
   ]
  },
  {
   "cell_type": "code",
   "execution_count": 12,
   "id": "da859e2d",
   "metadata": {},
   "outputs": [
    {
     "name": "stdout",
     "output_type": "stream",
     "text": [
      "hello world\n",
      "helloworld\n"
     ]
    }
   ],
   "source": [
    "#23 - 문자 붙이기\n",
    "a,b = input().split(\" \")\n",
    "c = a+b\n",
    "print(c)"
   ]
  },
  {
   "cell_type": "code",
   "execution_count": 13,
   "id": "6cd356ee",
   "metadata": {},
   "outputs": [
    {
     "name": "stdout",
     "output_type": "stream",
     "text": [
      "128 -128\n",
      "0\n"
     ]
    }
   ],
   "source": [
    "#24 - 숫자합치기\n",
    "a,b = input().split(\" \")\n",
    "c = int(a)+int(b)\n",
    "print(c)"
   ]
  },
  {
   "cell_type": "code",
   "execution_count": 14,
   "id": "c3458d08",
   "metadata": {},
   "outputs": [
    {
     "name": "stdout",
     "output_type": "stream",
     "text": [
      "0.1\n",
      "0.9\n",
      "1.0\n"
     ]
    }
   ],
   "source": [
    "#25 - 실수 합치기\n",
    "a = input()\n",
    "b= input()\n",
    "c = float(a)+float(b)\n",
    "print(c)"
   ]
  },
  {
   "cell_type": "code",
   "execution_count": 15,
   "id": "a6f2bea1",
   "metadata": {},
   "outputs": [
    {
     "name": "stdout",
     "output_type": "stream",
     "text": [
      "11\n",
      "b\n"
     ]
    }
   ],
   "source": [
    "#26 - 10진수 -> 16진수 8진수\n",
    "#%x로 출력하면 16진수(hexadecimal) 소문자로 출력된다.\n",
    "#%o로 출력하면 8진수(octal) 문자열로 출력된다.\n",
    "\n",
    "\n",
    "a = input()\n",
    "n = int(a)            #입력된 a를 10진수 값으로 변환해 변수 n에 저장\n",
    "print('%x'% n)  #n에 저장되어있는 값을 16진수(hexadecimal) 소문자 형태 문자열로 출력"
   ]
  },
  {
   "cell_type": "code",
   "execution_count": 16,
   "id": "3ae2d878",
   "metadata": {},
   "outputs": [
    {
     "name": "stdout",
     "output_type": "stream",
     "text": [
      "11\n",
      "B\n"
     ]
    }
   ],
   "source": [
    "#27 - 10진수 ->  16진수 8진수 - 대문자\n",
    "# %X 대문자로 하면 대문자로 나옴\n",
    "\n",
    "a = input()\n",
    "n = int(a) \n",
    "print('%X' % n)"
   ]
  },
  {
   "cell_type": "code",
   "execution_count": 18,
   "id": "3ee5a0f9",
   "metadata": {},
   "outputs": [
    {
     "name": "stdout",
     "output_type": "stream",
     "text": [
      "f\n",
      "17\n"
     ]
    }
   ],
   "source": [
    "#28 - 16진수 -> 8진수\n",
    "#\n",
    "a = input()\n",
    "n = int(a, 16)      #입력된 a를 16진수로 인식해 변수 n에 저장\n",
    "print('%o' % n)  #n에 저장되어있는 값을 8진수(octal) 형태 문자열로 출력\n"
   ]
  },
  {
   "cell_type": "code",
   "execution_count": 19,
   "id": "cbf14752",
   "metadata": {},
   "outputs": [
    {
     "name": "stdout",
     "output_type": "stream",
     "text": [
      "n\n",
      "110\n"
     ]
    }
   ],
   "source": [
    "#29 - 문자 -> 10진수 유니코드\n",
    "#n = ord(input())  #입력받은 문자를 10진수 유니코드 값으로 변환한 후, n에 저장한다.\n",
    "\n",
    "#ord( ) 는 어떤 문자의 순서 위치(ordinal position) 값을 의미한다.  \n",
    "#실제로 각각의 문자들에는 연속된 정수 값이 순서에 따라 부여 되어 있다. A:65, B:66, C:67 .... \n",
    "#ord(c) : 문자 c 를 10진수로 변환한 값 \n",
    "\n",
    "#컴퓨터로 저장되고 처리되는 모든 데이터들은 2진수 형태로 정수화 되어야 하는데,\n",
    "#컴퓨터에 문자를 저장하는 방법으로 아스키코드(ASCII Code)나 유니코드(Unicode)가 자주 사용된다.\n",
    "\n",
    "#예를 들어, 영문 대문자 'A'는 10진수 값 65 로 표현하고, \n",
    "#2진수(binary digit) 값 1000001 로 바꾸어 컴퓨터 내부에 저장한다. \n",
    "\n",
    "#유니코드(unicode)는 세계 여러 나라의 문자를 공통된 코드 값으로 저장할 때 사용하는 표준 코드이다.\n",
    "\n",
    "n = ord(input())\n",
    "print(n)"
   ]
  },
  {
   "cell_type": "code",
   "execution_count": 23,
   "id": "b3b534da",
   "metadata": {},
   "outputs": [
    {
     "name": "stdout",
     "output_type": "stream",
     "text": [
      "65\n",
      "A\n"
     ]
    }
   ],
   "source": [
    "#3- 10진수 정수 유니코드보기\n",
    "c = int(input())\n",
    "print(chr(c))  #c에 저장되어 있는 정수 값을 유니코드 문자(chracter)로 바꿔 출력한다. "
   ]
  }
 ],
 "metadata": {
  "kernelspec": {
   "display_name": "Python 3 (ipykernel)",
   "language": "python",
   "name": "python3"
  },
  "language_info": {
   "codemirror_mode": {
    "name": "ipython",
    "version": 3
   },
   "file_extension": ".py",
   "mimetype": "text/x-python",
   "name": "python",
   "nbconvert_exporter": "python",
   "pygments_lexer": "ipython3",
   "version": "3.9.13"
  }
 },
 "nbformat": 4,
 "nbformat_minor": 5
}
