{
 "cells": [
  {
   "cell_type": "code",
   "execution_count": 4,
   "id": "84dc79aa",
   "metadata": {},
   "outputs": [
    {
     "name": "stdout",
     "output_type": "stream",
     "text": [
      "-1\n",
      "1\n"
     ]
    }
   ],
   "source": [
    "#31 - 부호바꾸기\n",
    "a = input()\n",
    "a= int(a)\n",
    "print (-a)"
   ]
  },
  {
   "cell_type": "code",
   "execution_count": 8,
   "id": "55de0f4f",
   "metadata": {},
   "outputs": [
    {
     "name": "stdout",
     "output_type": "stream",
     "text": [
      "a\n",
      "b\n"
     ]
    }
   ],
   "source": [
    "#32 - 다음 아스키코드보기\n",
    "a = ord(input())\n",
    "print(chr(a+1))"
   ]
  },
  {
   "cell_type": "code",
   "execution_count": 10,
   "id": "c5b25c55",
   "metadata": {},
   "outputs": [
    {
     "name": "stdout",
     "output_type": "stream",
     "text": [
      "10 -5\n",
      "15\n"
     ]
    }
   ],
   "source": [
    "#33 - 두개 입력받아 빼기\n",
    "a,b = input().split(\" \")\n",
    "c = int(a)-int(b)\n",
    "print(c)"
   ]
  },
  {
   "cell_type": "code",
   "execution_count": 11,
   "id": "0b7205c6",
   "metadata": {},
   "outputs": [
    {
     "name": "stdout",
     "output_type": "stream",
     "text": [
      "0.4 0.6\n",
      "0.24\n"
     ]
    }
   ],
   "source": [
    "#34 - 두개 실수 입력받아 곱샘\n",
    "a,b = input().split(\" \")\n",
    "c = float(a) * float(b)\n",
    "print(c)"
   ]
  },
  {
   "cell_type": "code",
   "execution_count": 13,
   "id": "e4c0ced7",
   "metadata": {},
   "outputs": [
    {
     "name": "stdout",
     "output_type": "stream",
     "text": [
      "love 5\n",
      "lovelovelovelovelove\n"
     ]
    }
   ],
   "source": [
    "#35 - 실수 하나 여러번 보이기\n",
    "a,b = input().split(\" \")\n",
    "print(a*int(b))"
   ]
  },
  {
   "cell_type": "code",
   "execution_count": 14,
   "id": "430fbbea",
   "metadata": {},
   "outputs": [
    {
     "name": "stdout",
     "output_type": "stream",
     "text": [
      "3\n",
      "love kaka\n",
      "love kakalove kakalove kaka\n"
     ]
    }
   ],
   "source": [
    "#36 - 문장 여러번 출력\n",
    "n = input()\n",
    "s = input()\n",
    "print(int(n)*s)"
   ]
  },
  {
   "cell_type": "code",
   "execution_count": 20,
   "id": "fe7ceef8",
   "metadata": {},
   "outputs": [
    {
     "name": "stdout",
     "output_type": "stream",
     "text": [
      "2 10\n",
      "1024\n"
     ]
    }
   ],
   "source": [
    "#37 - 거듭제곱\n",
    "a,b = input().split(\" \")\n",
    "c = int(a)**int(b)\n",
    "print(c)"
   ]
  },
  {
   "cell_type": "code",
   "execution_count": 22,
   "id": "802ebc50",
   "metadata": {},
   "outputs": [
    {
     "name": "stdout",
     "output_type": "stream",
     "text": [
      "4.0 2.0\n",
      "16.0\n"
     ]
    }
   ],
   "source": [
    "#38 - 실수거듭제곱\n",
    "a,b = input().split(\" \")\n",
    "c = float(a)**float(b)\n",
    "print(c)"
   ]
  },
  {
   "cell_type": "code",
   "execution_count": 23,
   "id": "75f2b04c",
   "metadata": {},
   "outputs": [
    {
     "name": "stdout",
     "output_type": "stream",
     "text": [
      "10 3\n",
      "3\n"
     ]
    }
   ],
   "source": [
    "#39 - 나누기 몫 구하기\n",
    "a,b = input().split(\" \")\n",
    "c = int(a)//int(b)\n",
    "print(c)"
   ]
  },
  {
   "cell_type": "code",
   "execution_count": 25,
   "id": "88452119",
   "metadata": {},
   "outputs": [
    {
     "name": "stdout",
     "output_type": "stream",
     "text": [
      "10 3\n",
      "1\n"
     ]
    }
   ],
   "source": [
    "#40 - 나머지 구하기 \n",
    "a,b = input().split(\" \")\n",
    "c = int(a)%int(b)\n",
    "print(c)"
   ]
  },
  {
   "cell_type": "code",
   "execution_count": null,
   "id": "6b8eedf5",
   "metadata": {},
   "outputs": [],
   "source": []
  },
  {
   "cell_type": "code",
   "execution_count": null,
   "id": "4405dd6c",
   "metadata": {},
   "outputs": [],
   "source": []
  }
 ],
 "metadata": {
  "kernelspec": {
   "display_name": "Python 3 (ipykernel)",
   "language": "python",
   "name": "python3"
  },
  "language_info": {
   "codemirror_mode": {
    "name": "ipython",
    "version": 3
   },
   "file_extension": ".py",
   "mimetype": "text/x-python",
   "name": "python",
   "nbconvert_exporter": "python",
   "pygments_lexer": "ipython3",
   "version": "3.9.13"
  }
 },
 "nbformat": 4,
 "nbformat_minor": 5
}
