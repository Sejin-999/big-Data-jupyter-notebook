{
 "cells": [
  {
   "cell_type": "code",
   "execution_count": 2,
   "id": "8ef32367",
   "metadata": {},
   "outputs": [
    {
     "name": "stdout",
     "output_type": "stream",
     "text": [
      "3.141592\n",
      "3.14\n"
     ]
    }
   ],
   "source": [
    "#42 - 반올림\n",
    "\n",
    "a = input()\n",
    "a = float(a)\n",
    "print(format(a,\".2f\"))"
   ]
  },
  {
   "cell_type": "code",
   "execution_count": 6,
   "id": "4ce9ac76",
   "metadata": {},
   "outputs": [
    {
     "name": "stdout",
     "output_type": "stream",
     "text": [
      "10.0 3.0\n",
      "3.333\n"
     ]
    }
   ],
   "source": [
    "#43 - 나눈뒤 반올림\n",
    "a,b = input().split(\" \")\n",
    "c = float(a)/float(b)\n",
    "print(format(c,\".3f\"))"
   ]
  },
  {
   "cell_type": "code",
   "execution_count": 12,
   "id": "fe907f2f",
   "metadata": {},
   "outputs": [
    {
     "name": "stdout",
     "output_type": "stream",
     "text": [
      "10 3\n",
      "13\n",
      "7\n",
      "30\n",
      "3\n",
      "1\n",
      "3.33\n"
     ]
    }
   ],
   "source": [
    "#44 - 연산들\n",
    "a,b = input().split(\" \")\n",
    "c = int(a)+int(b)\n",
    "d= int(a)-int(b)\n",
    "e= int(a)*int(b)\n",
    "f= int(a)//int(b)\n",
    "g= int(a)%int(b)\n",
    "k= int(a)/int(b)\n",
    "\n",
    "print(c,\"\\n\",d,\"\\n\",e,\"\\n\",f,\"\\n\",g,\"\\n\",format(k,\".2f\"),sep=\"\")\n",
    "\n",
    "\n"
   ]
  },
  {
   "cell_type": "code",
   "execution_count": 18,
   "id": "a3b98bf5",
   "metadata": {},
   "outputs": [
    {
     "name": "stdout",
     "output_type": "stream",
     "text": [
      "1 2 3\n",
      "6 2.00\n"
     ]
    }
   ],
   "source": [
    "#45 합 , 평균\n",
    "a, b, c = map(int, input().split())\n",
    "d = a+b+c;\n",
    "e = int(d)/3\n",
    "print (d , format(e,\".2f\"))"
   ]
  },
  {
   "cell_type": "code",
   "execution_count": 25,
   "id": "f79fdb96",
   "metadata": {},
   "outputs": [
    {
     "name": "stdout",
     "output_type": "stream",
     "text": [
      "10\n",
      "20\n"
     ]
    }
   ],
   "source": [
    "#46 비트연산자 1배\n",
    "\n",
    "# n = 10\n",
    "# print(n<<1)  #10을 2배 한 값인 20 이 출력된다.\n",
    "# print(n>>1)  #10을 반으로 나눈 값인 5 가 출력된다.\n",
    "# print(n<<2)  #10을 4배 한 값인 40 이 출력된다.\n",
    "# print(n>>2)  #10을 반으로 나눈 후 다시 반으로 나눈 값인 2 가 출력된다.\n",
    "# map 함수로 int 선언시 사용 못하더라\n",
    "\n",
    "a = input()\n",
    "a = int(a)\n",
    "print( a<<1)\n"
   ]
  },
  {
   "cell_type": "code",
   "execution_count": 28,
   "id": "f3995c3d",
   "metadata": {},
   "outputs": [
    {
     "name": "stdout",
     "output_type": "stream",
     "text": [
      "1 3\n",
      "8\n"
     ]
    }
   ],
   "source": [
    "#47 비트연산자 거듭제곱\n",
    "# a = 2\n",
    "# b = 10\n",
    "# print(a << b)  #210 = 1024 가 출력된다.\n",
    "\n",
    "a,b = input().split(\" \")\n",
    "a = int(a)\n",
    "b = int (b)\n",
    "print (a << b)"
   ]
  },
  {
   "cell_type": "code",
   "execution_count": 39,
   "id": "710c1ae8",
   "metadata": {},
   "outputs": [
    {
     "name": "stdout",
     "output_type": "stream",
     "text": [
      "1 9\n",
      "True\n"
     ]
    }
   ],
   "source": [
    "#48 비교연산자\n",
    "a,b = input().split(\" \")\n",
    "a = int (a)\n",
    "b= int (b)\n",
    "print(a<b)\n",
    "\n"
   ]
  },
  {
   "cell_type": "code",
   "execution_count": 31,
   "id": "2f2815d0",
   "metadata": {},
   "outputs": [
    {
     "name": "stdout",
     "output_type": "stream",
     "text": [
      "0 0\n",
      "True\n"
     ]
    }
   ],
   "source": [
    "#49 비교연산자\n",
    "a,b = input().split(\" \")\n",
    "\n",
    "if a == b :\n",
    "    print(\"True\")\n",
    "else:\n",
    "    print(\"False\")"
   ]
  },
  {
   "cell_type": "code",
   "execution_count": 40,
   "id": "f1328468",
   "metadata": {},
   "outputs": [
    {
     "name": "stdout",
     "output_type": "stream",
     "text": [
      "-1 -2\n",
      "False\n"
     ]
    }
   ],
   "source": [
    "#50 비교연산자\n",
    "a,b = input().split(\" \")\n",
    "a = int (a)\n",
    "b= int (b)\n",
    "if a <= b:\n",
    "    print(\"True\")\n",
    "else:\n",
    "    print(\"False\")"
   ]
  },
  {
   "cell_type": "code",
   "execution_count": null,
   "id": "acdab3c6",
   "metadata": {},
   "outputs": [],
   "source": []
  }
 ],
 "metadata": {
  "kernelspec": {
   "display_name": "Python 3 (ipykernel)",
   "language": "python",
   "name": "python3"
  },
  "language_info": {
   "codemirror_mode": {
    "name": "ipython",
    "version": 3
   },
   "file_extension": ".py",
   "mimetype": "text/x-python",
   "name": "python",
   "nbconvert_exporter": "python",
   "pygments_lexer": "ipython3",
   "version": "3.9.13"
  }
 },
 "nbformat": 4,
 "nbformat_minor": 5
}
