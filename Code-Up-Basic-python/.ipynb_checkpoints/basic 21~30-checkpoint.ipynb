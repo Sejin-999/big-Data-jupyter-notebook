{
 "cells": [
  {
   "cell_type": "code",
   "execution_count": 9,
   "id": "51256dc4",
   "metadata": {},
   "outputs": [
    {
     "name": "stdout",
     "output_type": "stream",
     "text": [
      "200304\n",
      "20 03 04    "
     ]
    }
   ],
   "source": [
    "#21 - 분할\n",
    "s = input()\n",
    "a=0\n",
    "b=2\n",
    "for c in s :\n",
    "    print(s[a:b] , end =\" \")\n",
    "    a=b\n",
    "    b+=2\n"
   ]
  },
  {
   "cell_type": "code",
   "execution_count": 10,
   "id": "32fcc876",
   "metadata": {},
   "outputs": [
    {
     "name": "stdout",
     "output_type": "stream",
     "text": [
      "17:23:57\n",
      "23\n"
     ]
    }
   ],
   "source": [
    "#22 - 가운데 값만 뽑기\n",
    "a,b,c = input().split(\":\")\n",
    "print(b)"
   ]
  },
  {
   "cell_type": "code",
   "execution_count": 12,
   "id": "702cb982",
   "metadata": {},
   "outputs": [
    {
     "name": "stdout",
     "output_type": "stream",
     "text": [
      "hello world\n",
      "helloworld\n"
     ]
    }
   ],
   "source": [
    "#23 - 문자 붙이기\n",
    "a,b = input().split(\" \")\n",
    "c = a+b\n",
    "print(c)"
   ]
  },
  {
   "cell_type": "code",
   "execution_count": 13,
   "id": "0592d0f8",
   "metadata": {},
   "outputs": [
    {
     "name": "stdout",
     "output_type": "stream",
     "text": [
      "128 -128\n",
      "0\n"
     ]
    }
   ],
   "source": [
    "#24 - 숫자합치기\n",
    "a,b = input().split(\" \")\n",
    "c = int(a)+int(b)\n",
    "print(c)"
   ]
  },
  {
   "cell_type": "code",
   "execution_count": 14,
   "id": "06e50b6b",
   "metadata": {},
   "outputs": [
    {
     "name": "stdout",
     "output_type": "stream",
     "text": [
      "0.1\n",
      "0.9\n",
      "1.0\n"
     ]
    }
   ],
   "source": [
    "#25 - 실수 합치기\n",
    "a = input()\n",
    "b= input()\n",
    "c = float(a)+float(b)\n",
    "print(c)"
   ]
  },
  {
   "cell_type": "code",
   "execution_count": 15,
   "id": "737c344a",
   "metadata": {},
   "outputs": [
    {
     "name": "stdout",
     "output_type": "stream",
     "text": [
      "11\n",
      "b\n"
     ]
    }
   ],
   "source": [
    "#26 - 10진수 -> 16진수 8진수\n",
    "#%x로 출력하면 16진수(hexadecimal) 소문자로 출력된다.\n",
    "#%o로 출력하면 8진수(octal) 문자열로 출력된다.\n",
    "\n",
    "\n",
    "a = input()\n",
    "n = int(a)            #입력된 a를 10진수 값으로 변환해 변수 n에 저장\n",
    "print('%x'% n)  #n에 저장되어있는 값을 16진수(hexadecimal) 소문자 형태 문자열로 출력"
   ]
  },
  {
   "cell_type": "code",
   "execution_count": 16,
   "id": "d6920c4d",
   "metadata": {},
   "outputs": [
    {
     "name": "stdout",
     "output_type": "stream",
     "text": [
      "11\n",
      "B\n"
     ]
    }
   ],
   "source": [
    "#26 - 10진수 ->  16진수 8진수 - 대문자\n",
    "# %X 대문자로 하면 대문자로 나옴\n",
    "\n",
    "a = input()\n",
    "n = int(a) \n",
    "print('%X' % n)"
   ]
  },
  {
   "cell_type": "code",
   "execution_count": 18,
   "id": "11f5a1b9",
   "metadata": {},
   "outputs": [
    {
     "name": "stdout",
     "output_type": "stream",
     "text": [
      "f\n",
      "17\n"
     ]
    }
   ],
   "source": [
    "#27 - 16진수 -> 8진수\n",
    "#\n",
    "a = input()\n",
    "n = int(a, 16)      #입력된 a를 16진수로 인식해 변수 n에 저장\n",
    "print('%o' % n)  #n에 저장되어있는 값을 8진수(octal) 형태 문자열로 출력\n"
   ]
  },
  {
   "cell_type": "code",
   "execution_count": null,
   "id": "8cd565fa",
   "metadata": {},
   "outputs": [],
   "source": []
  },
  {
   "cell_type": "code",
   "execution_count": null,
   "id": "49a4e297",
   "metadata": {},
   "outputs": [],
   "source": []
  }
 ],
 "metadata": {
  "kernelspec": {
   "display_name": "Python 3 (ipykernel)",
   "language": "python",
   "name": "python3"
  },
  "language_info": {
   "codemirror_mode": {
    "name": "ipython",
    "version": 3
   },
   "file_extension": ".py",
   "mimetype": "text/x-python",
   "name": "python",
   "nbconvert_exporter": "python",
   "pygments_lexer": "ipython3",
   "version": "3.9.13"
  }
 },
 "nbformat": 4,
 "nbformat_minor": 5
}
