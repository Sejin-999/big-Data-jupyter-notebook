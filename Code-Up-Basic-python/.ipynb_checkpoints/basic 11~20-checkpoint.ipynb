{
 "cells": [
  {
   "cell_type": "code",
   "execution_count": 1,
   "id": "0da6cc60",
   "metadata": {},
   "outputs": [
    {
     "name": "stdout",
     "output_type": "stream",
     "text": [
      "11\n",
      "22\n",
      "11\n",
      "22\n"
     ]
    }
   ],
   "source": [
    "#11 - input 두개\n",
    "a = input()\n",
    "b = input()\n",
    "a = int(a)\n",
    "b = int(b)\n",
    "print(a)\n",
    "print(b)"
   ]
  },
  {
   "cell_type": "code",
   "execution_count": 2,
   "id": "b611507e",
   "metadata": {},
   "outputs": [
    {
     "name": "stdout",
     "output_type": "stream",
     "text": [
      "마아\n",
      "마니\n",
      "마니\n",
      "마아\n"
     ]
    }
   ],
   "source": [
    "#12 - input 두개 - 리버스\n",
    "a = input()\n",
    "b = input()\n",
    "\n",
    "print(b)\n",
    "print(a)"
   ]
  },
  {
   "cell_type": "code",
   "execution_count": 6,
   "id": "79f57afb",
   "metadata": {},
   "outputs": [
    {
     "name": "stdout",
     "output_type": "stream",
     "text": [
      "0.1\n",
      "0.1\n",
      "0.1\n",
      "0.1\n"
     ]
    }
   ],
   "source": [
    "#13 - input 실수 3개\n",
    "a = input()\n",
    "a = float(a)\n",
    "#print(a,\"\\n\",a,\"\\n\",a)\n",
    "print(a)\n",
    "print(a)\n",
    "print(a)"
   ]
  },
  {
   "cell_type": "code",
   "execution_count": 8,
   "id": "0200a45a",
   "metadata": {},
   "outputs": [
    {
     "name": "stdout",
     "output_type": "stream",
     "text": [
      "1 2\n",
      "1\n",
      "2\n"
     ]
    }
   ],
   "source": [
    "#14 - split\n",
    "a,b = input().split()\n",
    "a= int(a)\n",
    "b= int(b)\n",
    "print(a)\n",
    "print(b)"
   ]
  },
  {
   "cell_type": "code",
   "execution_count": 9,
   "id": "21f93010",
   "metadata": {},
   "outputs": [
    {
     "name": "stdout",
     "output_type": "stream",
     "text": [
      "마 이\n",
      "이 마\n"
     ]
    }
   ],
   "source": [
    "#15 - split 문자\n",
    "a,b = input().split()\n",
    "print(b,a)"
   ]
  },
  {
   "cell_type": "code",
   "execution_count": 10,
   "id": "0c13bab8",
   "metadata": {},
   "outputs": [
    {
     "name": "stdout",
     "output_type": "stream",
     "text": [
      "computer science\n",
      "computer science computer science computer science\n"
     ]
    }
   ],
   "source": [
    "#16 - 3번출력\n",
    "s = input()\n",
    "print(s,s,s)"
   ]
  },
  {
   "cell_type": "code",
   "execution_count": 11,
   "id": "6582e095",
   "metadata": {},
   "outputs": [
    {
     "name": "stdout",
     "output_type": "stream",
     "text": [
      "3:16\n",
      "3:16\n"
     ]
    }
   ],
   "source": [
    "#17 - 구분\n",
    "a,b = input().split(':')\n",
    "print(a,b ,sep=\":\")"
   ]
  },
  {
   "cell_type": "code",
   "execution_count": 17,
   "id": "4447bda1",
   "metadata": {},
   "outputs": [
    {
     "name": "stdout",
     "output_type": "stream",
     "text": [
      "99.11.06\n",
      "06-11-99\n"
     ]
    }
   ],
   "source": [
    "#18 -3개 구분\n",
    "y,m,d = input().split(\".\")\n",
    "print(d,m,y,sep=\"-\")"
   ]
  },
  {
   "cell_type": "code",
   "execution_count": 18,
   "id": "0ad0f90c",
   "metadata": {},
   "outputs": [
    {
     "name": "stdout",
     "output_type": "stream",
     "text": [
      "14214214-214241241\n",
      "14214214214241241\n"
     ]
    }
   ],
   "source": [
    "#19 -주민번호\n",
    "a,b = input().split(\"-\")\n",
    "print(a,b,sep=\"\")"
   ]
  },
  {
   "cell_type": "code",
   "execution_count": 24,
   "id": "9f59d844",
   "metadata": {},
   "outputs": [
    {
     "name": "stdout",
     "output_type": "stream",
     "text": [
      "Hello\n"
     ]
    },
    {
     "ename": "NameError",
     "evalue": "name 'ss' is not defined",
     "output_type": "error",
     "traceback": [
      "\u001b[0;31m---------------------------------------------------------------------------\u001b[0m",
      "\u001b[0;31mNameError\u001b[0m                                 Traceback (most recent call last)",
      "\u001b[0;32m/var/folders/cv/66wm5tcs5gs17lcxlkz6mdmh0000gn/T/ipykernel_24990/3891357516.py\u001b[0m in \u001b[0;36m<module>\u001b[0;34m\u001b[0m\n\u001b[1;32m      1\u001b[0m \u001b[0;31m#20 - 배열\u001b[0m\u001b[0;34m\u001b[0m\u001b[0;34m\u001b[0m\u001b[0m\n\u001b[1;32m      2\u001b[0m \u001b[0ms\u001b[0m \u001b[0;34m=\u001b[0m \u001b[0minput\u001b[0m\u001b[0;34m(\u001b[0m\u001b[0;34m)\u001b[0m\u001b[0;34m\u001b[0m\u001b[0;34m\u001b[0m\u001b[0m\n\u001b[0;32m----> 3\u001b[0;31m \u001b[0;32mfor\u001b[0m \u001b[0ms\u001b[0m \u001b[0;32min\u001b[0m \u001b[0mss\u001b[0m\u001b[0;34m:\u001b[0m\u001b[0;34m\u001b[0m\u001b[0;34m\u001b[0m\u001b[0m\n\u001b[0m\u001b[1;32m      4\u001b[0m     \u001b[0mprint\u001b[0m\u001b[0;34m(\u001b[0m\u001b[0mss\u001b[0m\u001b[0;34m)\u001b[0m\u001b[0;34m\u001b[0m\u001b[0;34m\u001b[0m\u001b[0m\n",
      "\u001b[0;31mNameError\u001b[0m: name 'ss' is not defined"
     ]
    }
   ],
   "source": [
    "#20 - 배열\n",
    "s = input()\n",
    "for ss in s:\n",
    "    print(ss)"
   ]
  },
  {
   "cell_type": "code",
   "execution_count": null,
   "id": "21246ef0",
   "metadata": {},
   "outputs": [],
   "source": []
  }
 ],
 "metadata": {
  "kernelspec": {
   "display_name": "Python 3 (ipykernel)",
   "language": "python",
   "name": "python3"
  },
  "language_info": {
   "codemirror_mode": {
    "name": "ipython",
    "version": 3
   },
   "file_extension": ".py",
   "mimetype": "text/x-python",
   "name": "python",
   "nbconvert_exporter": "python",
   "pygments_lexer": "ipython3",
   "version": "3.9.13"
  }
 },
 "nbformat": 4,
 "nbformat_minor": 5
}
